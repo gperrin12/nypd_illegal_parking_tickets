{
 "cells": [
  {
   "cell_type": "markdown",
   "metadata": {},
   "source": [
    "## Where and When Should I Not Be Parking Illegally in NYC?"
   ]
  },
  {
   "cell_type": "code",
   "execution_count": 5,
   "metadata": {
    "collapsed": false
   },
   "outputs": [
    {
     "name": "stdout",
     "output_type": "stream",
     "text": [
      "Populating the interactive namespace from numpy and matplotlib\n"
     ]
    }
   ],
   "source": [
    "import os\n",
    "import pandas as pd\n",
    "import geopandas as gpd\n",
    "import subprocess\n",
    "from geopandas.tools import geocode\n",
    "\n",
    "%matplotlib inline\n",
    "%pylab inline\n",
    "pd.options.display.max_columns = 120\n",
    "pd.options.display.max_rows = 120"
   ]
  },
  {
   "cell_type": "code",
   "execution_count": 6,
   "metadata": {
    "collapsed": true
   },
   "outputs": [],
   "source": [
    "data_folder = '/Users/geoffperrin/Desktop/python_sandbox/NYPD/data'"
   ]
  },
  {
   "cell_type": "code",
   "execution_count": 10,
   "metadata": {
    "collapsed": false
   },
   "outputs": [
    {
     "data": {
      "text/html": [
       "<div>\n",
       "<table border=\"1\" class=\"dataframe\">\n",
       "  <thead>\n",
       "    <tr style=\"text-align: right;\">\n",
       "      <th></th>\n",
       "      <th>Created Date</th>\n",
       "      <th>Closed Date</th>\n",
       "      <th>Agency</th>\n",
       "      <th>Complaint Type</th>\n",
       "      <th>Descriptor</th>\n",
       "      <th>Location Type</th>\n",
       "      <th>Community Board</th>\n",
       "      <th>Borough</th>\n",
       "      <th>Latitude</th>\n",
       "      <th>Longitude</th>\n",
       "    </tr>\n",
       "  </thead>\n",
       "  <tbody>\n",
       "    <tr>\n",
       "      <th>9</th>\n",
       "      <td>09/04/2015 08:52:01 PM</td>\n",
       "      <td>09/04/2015 11:24:31 PM</td>\n",
       "      <td>NYPD</td>\n",
       "      <td>Illegal Parking</td>\n",
       "      <td>Blocked Sidewalk</td>\n",
       "      <td>Street/Sidewalk</td>\n",
       "      <td>05 QUEENS</td>\n",
       "      <td>QUEENS</td>\n",
       "      <td>40.722005</td>\n",
       "      <td>-73.904019</td>\n",
       "    </tr>\n",
       "    <tr>\n",
       "      <th>37</th>\n",
       "      <td>09/04/2015 04:43:36 PM</td>\n",
       "      <td>09/04/2015 10:15:45 PM</td>\n",
       "      <td>NYPD</td>\n",
       "      <td>Illegal Parking</td>\n",
       "      <td>Blocked Sidewalk</td>\n",
       "      <td>Street/Sidewalk</td>\n",
       "      <td>03 STATEN ISLAND</td>\n",
       "      <td>STATEN ISLAND</td>\n",
       "      <td>40.562832</td>\n",
       "      <td>-74.148151</td>\n",
       "    </tr>\n",
       "    <tr>\n",
       "      <th>46</th>\n",
       "      <td>09/04/2015 08:46:01 AM</td>\n",
       "      <td>09/04/2015 12:14:42 PM</td>\n",
       "      <td>NYPD</td>\n",
       "      <td>Illegal Parking</td>\n",
       "      <td>Blocked Sidewalk</td>\n",
       "      <td>Street/Sidewalk</td>\n",
       "      <td>02 STATEN ISLAND</td>\n",
       "      <td>STATEN ISLAND</td>\n",
       "      <td>40.593806</td>\n",
       "      <td>-74.075633</td>\n",
       "    </tr>\n",
       "    <tr>\n",
       "      <th>54</th>\n",
       "      <td>09/05/2015 12:03:41 AM</td>\n",
       "      <td>NaN</td>\n",
       "      <td>NYPD</td>\n",
       "      <td>Illegal Parking</td>\n",
       "      <td>Blocked Sidewalk</td>\n",
       "      <td>Street/Sidewalk</td>\n",
       "      <td>0 Unspecified</td>\n",
       "      <td>Unspecified</td>\n",
       "      <td>NaN</td>\n",
       "      <td>NaN</td>\n",
       "    </tr>\n",
       "    <tr>\n",
       "      <th>57</th>\n",
       "      <td>09/04/2015 07:17:15 PM</td>\n",
       "      <td>09/05/2015 02:51:48 AM</td>\n",
       "      <td>NYPD</td>\n",
       "      <td>Illegal Parking</td>\n",
       "      <td>Blocked Sidewalk</td>\n",
       "      <td>Street/Sidewalk</td>\n",
       "      <td>01 BROOKLYN</td>\n",
       "      <td>BROOKLYN</td>\n",
       "      <td>40.713757</td>\n",
       "      <td>-73.936055</td>\n",
       "    </tr>\n",
       "  </tbody>\n",
       "</table>\n",
       "</div>"
      ],
      "text/plain": [
       "              Created Date             Closed Date Agency   Complaint Type  \\\n",
       "9   09/04/2015 08:52:01 PM  09/04/2015 11:24:31 PM   NYPD  Illegal Parking   \n",
       "37  09/04/2015 04:43:36 PM  09/04/2015 10:15:45 PM   NYPD  Illegal Parking   \n",
       "46  09/04/2015 08:46:01 AM  09/04/2015 12:14:42 PM   NYPD  Illegal Parking   \n",
       "54  09/05/2015 12:03:41 AM                     NaN   NYPD  Illegal Parking   \n",
       "57  09/04/2015 07:17:15 PM  09/05/2015 02:51:48 AM   NYPD  Illegal Parking   \n",
       "\n",
       "          Descriptor    Location Type   Community Board        Borough  \\\n",
       "9   Blocked Sidewalk  Street/Sidewalk         05 QUEENS         QUEENS   \n",
       "37  Blocked Sidewalk  Street/Sidewalk  03 STATEN ISLAND  STATEN ISLAND   \n",
       "46  Blocked Sidewalk  Street/Sidewalk  02 STATEN ISLAND  STATEN ISLAND   \n",
       "54  Blocked Sidewalk  Street/Sidewalk     0 Unspecified    Unspecified   \n",
       "57  Blocked Sidewalk  Street/Sidewalk       01 BROOKLYN       BROOKLYN   \n",
       "\n",
       "     Latitude  Longitude  \n",
       "9   40.722005 -73.904019  \n",
       "37  40.562832 -74.148151  \n",
       "46  40.593806 -74.075633  \n",
       "54        NaN        NaN  \n",
       "57  40.713757 -73.936055  "
      ]
     },
     "execution_count": 10,
     "metadata": {},
     "output_type": "execute_result"
    }
   ],
   "source": [
    "nypd_df_raw = pd.read_csv(data_folder+'/nypd_7_major_felony_incidents.csv')\n",
    "nypd_df = nypd_df_raw[['Created Date', 'Closed Date', 'Agency', 'Complaint Type', 'Descriptor', 'Location Type', \\\n",
    "                       'Community Board', 'Borough', 'Latitude', 'Longitude']]\n",
    "\n",
    "#subset to just blocked sidewalks\n",
    "nypd_df = nypd_df[nypd_df.Descriptor == \"Blocked Sidewalk\"]\n",
    "nypd_df.head()"
   ]
  },
  {
   "cell_type": "code",
   "execution_count": 11,
   "metadata": {
    "collapsed": false
   },
   "outputs": [
    {
     "name": "stderr",
     "output_type": "stream",
     "text": [
      "/Users/geoffperrin/anaconda2/lib/python2.7/site-packages/ipykernel/__main__.py:1: SettingWithCopyWarning: \n",
      "A value is trying to be set on a copy of a slice from a DataFrame.\n",
      "Try using .loc[row_indexer,col_indexer] = value instead\n",
      "\n",
      "See the caveats in the documentation: http://pandas.pydata.org/pandas-docs/stable/indexing.html#indexing-view-versus-copy\n",
      "  if __name__ == '__main__':\n",
      "/Users/geoffperrin/anaconda2/lib/python2.7/site-packages/ipykernel/__main__.py:2: SettingWithCopyWarning: \n",
      "A value is trying to be set on a copy of a slice from a DataFrame.\n",
      "Try using .loc[row_indexer,col_indexer] = value instead\n",
      "\n",
      "See the caveats in the documentation: http://pandas.pydata.org/pandas-docs/stable/indexing.html#indexing-view-versus-copy\n",
      "  from ipykernel import kernelapp as app\n"
     ]
    }
   ],
   "source": [
    "nypd_df['create_date_time'] = pd.to_datetime(nypd_df['Created Date'])\n",
    "nypd_df['closed_date_time'] = pd.to_datetime(nypd_df['Closed Date'])"
   ]
  },
  {
   "cell_type": "code",
   "execution_count": 12,
   "metadata": {
    "collapsed": false
   },
   "outputs": [
    {
     "name": "stderr",
     "output_type": "stream",
     "text": [
      "/Users/geoffperrin/anaconda2/lib/python2.7/site-packages/ipykernel/__main__.py:1: SettingWithCopyWarning: \n",
      "A value is trying to be set on a copy of a slice from a DataFrame.\n",
      "Try using .loc[row_indexer,col_indexer] = value instead\n",
      "\n",
      "See the caveats in the documentation: http://pandas.pydata.org/pandas-docs/stable/indexing.html#indexing-view-versus-copy\n",
      "  if __name__ == '__main__':\n",
      "/Users/geoffperrin/anaconda2/lib/python2.7/site-packages/ipykernel/__main__.py:2: SettingWithCopyWarning: \n",
      "A value is trying to be set on a copy of a slice from a DataFrame.\n",
      "Try using .loc[row_indexer,col_indexer] = value instead\n",
      "\n",
      "See the caveats in the documentation: http://pandas.pydata.org/pandas-docs/stable/indexing.html#indexing-view-versus-copy\n",
      "  from ipykernel import kernelapp as app\n",
      "/Users/geoffperrin/anaconda2/lib/python2.7/site-packages/ipykernel/__main__.py:5: SettingWithCopyWarning: \n",
      "A value is trying to be set on a copy of a slice from a DataFrame.\n",
      "Try using .loc[row_indexer,col_indexer] = value instead\n",
      "\n",
      "See the caveats in the documentation: http://pandas.pydata.org/pandas-docs/stable/indexing.html#indexing-view-versus-copy\n",
      "/Users/geoffperrin/anaconda2/lib/python2.7/site-packages/ipykernel/__main__.py:6: SettingWithCopyWarning: \n",
      "A value is trying to be set on a copy of a slice from a DataFrame\n",
      "\n",
      "See the caveats in the documentation: http://pandas.pydata.org/pandas-docs/stable/indexing.html#indexing-view-versus-copy\n",
      "/Users/geoffperrin/anaconda2/lib/python2.7/site-packages/pandas/core/generic.py:4702: SettingWithCopyWarning: \n",
      "A value is trying to be set on a copy of a slice from a DataFrame\n",
      "\n",
      "See the caveats in the documentation: http://pandas.pydata.org/pandas-docs/stable/indexing.html#indexing-view-versus-copy\n",
      "  self._update_inplace(new_data)\n",
      "/Users/geoffperrin/anaconda2/lib/python2.7/site-packages/IPython/core/interactiveshell.py:2885: SettingWithCopyWarning: \n",
      "A value is trying to be set on a copy of a slice from a DataFrame\n",
      "\n",
      "See the caveats in the documentation: http://pandas.pydata.org/pandas-docs/stable/indexing.html#indexing-view-versus-copy\n",
      "  exec(code_obj, self.user_global_ns, self.user_ns)\n"
     ]
    },
    {
     "ename": "TypeError",
     "evalue": "'int' object is not callable",
     "output_type": "error",
     "traceback": [
      "\u001b[0;31m---------------------------------------------------------------------------\u001b[0m",
      "\u001b[0;31mTypeError\u001b[0m                                 Traceback (most recent call last)",
      "\u001b[0;32m<ipython-input-12-278fb14b3b40>\u001b[0m in \u001b[0;36m<module>\u001b[0;34m()\u001b[0m\n\u001b[1;32m      7\u001b[0m \u001b[0;34m\u001b[0m\u001b[0m\n\u001b[1;32m      8\u001b[0m \u001b[0;31m#control for hour of day\u001b[0m\u001b[0;34m\u001b[0m\u001b[0;34m\u001b[0m\u001b[0m\n\u001b[0;32m----> 9\u001b[0;31m \u001b[0mnypd_df\u001b[0m\u001b[0;34m[\u001b[0m\u001b[0;34m'hour_of_day'\u001b[0m\u001b[0;34m]\u001b[0m \u001b[0;34m=\u001b[0m \u001b[0mnypd_df\u001b[0m\u001b[0;34m.\u001b[0m\u001b[0mcreate_date_time\u001b[0m\u001b[0;34m.\u001b[0m\u001b[0mapply\u001b[0m\u001b[0;34m(\u001b[0m\u001b[0;32mlambda\u001b[0m \u001b[0mx\u001b[0m\u001b[0;34m:\u001b[0m \u001b[0mx\u001b[0m\u001b[0;34m.\u001b[0m\u001b[0mhour\u001b[0m\u001b[0;34m(\u001b[0m\u001b[0;34m)\u001b[0m\u001b[0;34m)\u001b[0m\u001b[0;34m\u001b[0m\u001b[0m\n\u001b[0m",
      "\u001b[0;32m/Users/geoffperrin/anaconda2/lib/python2.7/site-packages/pandas/core/series.pyc\u001b[0m in \u001b[0;36mapply\u001b[0;34m(self, func, convert_dtype, args, **kwds)\u001b[0m\n\u001b[1;32m   2292\u001b[0m             \u001b[0;32melse\u001b[0m\u001b[0;34m:\u001b[0m\u001b[0;34m\u001b[0m\u001b[0m\n\u001b[1;32m   2293\u001b[0m                 \u001b[0mvalues\u001b[0m \u001b[0;34m=\u001b[0m \u001b[0mself\u001b[0m\u001b[0;34m.\u001b[0m\u001b[0masobject\u001b[0m\u001b[0;34m\u001b[0m\u001b[0m\n\u001b[0;32m-> 2294\u001b[0;31m                 \u001b[0mmapped\u001b[0m \u001b[0;34m=\u001b[0m \u001b[0mlib\u001b[0m\u001b[0;34m.\u001b[0m\u001b[0mmap_infer\u001b[0m\u001b[0;34m(\u001b[0m\u001b[0mvalues\u001b[0m\u001b[0;34m,\u001b[0m \u001b[0mf\u001b[0m\u001b[0;34m,\u001b[0m \u001b[0mconvert\u001b[0m\u001b[0;34m=\u001b[0m\u001b[0mconvert_dtype\u001b[0m\u001b[0;34m)\u001b[0m\u001b[0;34m\u001b[0m\u001b[0m\n\u001b[0m\u001b[1;32m   2295\u001b[0m \u001b[0;34m\u001b[0m\u001b[0m\n\u001b[1;32m   2296\u001b[0m         \u001b[0;32mif\u001b[0m \u001b[0mlen\u001b[0m\u001b[0;34m(\u001b[0m\u001b[0mmapped\u001b[0m\u001b[0;34m)\u001b[0m \u001b[0;32mand\u001b[0m \u001b[0misinstance\u001b[0m\u001b[0;34m(\u001b[0m\u001b[0mmapped\u001b[0m\u001b[0;34m[\u001b[0m\u001b[0;36m0\u001b[0m\u001b[0;34m]\u001b[0m\u001b[0;34m,\u001b[0m \u001b[0mSeries\u001b[0m\u001b[0;34m)\u001b[0m\u001b[0;34m:\u001b[0m\u001b[0;34m\u001b[0m\u001b[0m\n",
      "\u001b[0;32mpandas/src/inference.pyx\u001b[0m in \u001b[0;36mpandas.lib.map_infer (pandas/lib.c:66124)\u001b[0;34m()\u001b[0m\n",
      "\u001b[0;32m<ipython-input-12-278fb14b3b40>\u001b[0m in \u001b[0;36m<lambda>\u001b[0;34m(x)\u001b[0m\n\u001b[1;32m      7\u001b[0m \u001b[0;34m\u001b[0m\u001b[0m\n\u001b[1;32m      8\u001b[0m \u001b[0;31m#control for hour of day\u001b[0m\u001b[0;34m\u001b[0m\u001b[0;34m\u001b[0m\u001b[0m\n\u001b[0;32m----> 9\u001b[0;31m \u001b[0mnypd_df\u001b[0m\u001b[0;34m[\u001b[0m\u001b[0;34m'hour_of_day'\u001b[0m\u001b[0;34m]\u001b[0m \u001b[0;34m=\u001b[0m \u001b[0mnypd_df\u001b[0m\u001b[0;34m.\u001b[0m\u001b[0mcreate_date_time\u001b[0m\u001b[0;34m.\u001b[0m\u001b[0mapply\u001b[0m\u001b[0;34m(\u001b[0m\u001b[0;32mlambda\u001b[0m \u001b[0mx\u001b[0m\u001b[0;34m:\u001b[0m \u001b[0mx\u001b[0m\u001b[0;34m.\u001b[0m\u001b[0mhour\u001b[0m\u001b[0;34m(\u001b[0m\u001b[0;34m)\u001b[0m\u001b[0;34m)\u001b[0m\u001b[0;34m\u001b[0m\u001b[0m\n\u001b[0m",
      "\u001b[0;31mTypeError\u001b[0m: 'int' object is not callable"
     ]
    }
   ],
   "source": [
    "nypd_df['create_date'] = nypd_df['create_date_time'].dt.date\n",
    "nypd_df['day_of_week'] = nypd_df.create_date.apply(lambda x: x.weekday())\n",
    "\n",
    "#control for Friday / Saturday nights\n",
    "nypd_df['weekend'] = 0\n",
    "nypd_df['weekend'][(nypd_df['day_of_week'] == 4) | (nypd_df['day_of_week'] == 5)] = 1\n",
    "\n",
    "#control for hour of day\n",
    "nypd_df['hour_of_day'] = nypd_df.create_date_time.apply(lambda x: x.hour())"
   ]
  },
  {
   "cell_type": "code",
   "execution_count": 13,
   "metadata": {
    "collapsed": false
   },
   "outputs": [
    {
     "data": {
      "text/html": [
       "<div>\n",
       "<table border=\"1\" class=\"dataframe\">\n",
       "  <thead>\n",
       "    <tr style=\"text-align: right;\">\n",
       "      <th></th>\n",
       "      <th>Created Date</th>\n",
       "      <th>Closed Date</th>\n",
       "      <th>Agency</th>\n",
       "      <th>Complaint Type</th>\n",
       "      <th>Descriptor</th>\n",
       "      <th>Location Type</th>\n",
       "      <th>Community Board</th>\n",
       "      <th>Borough</th>\n",
       "      <th>Latitude</th>\n",
       "      <th>Longitude</th>\n",
       "      <th>create_date_time</th>\n",
       "      <th>closed_date_time</th>\n",
       "      <th>create_date</th>\n",
       "      <th>day_of_week</th>\n",
       "      <th>weekend</th>\n",
       "    </tr>\n",
       "  </thead>\n",
       "  <tbody>\n",
       "    <tr>\n",
       "      <th>0</th>\n",
       "      <td>09/04/2015 07:48:25 AM</td>\n",
       "      <td>09/04/2015 05:21:18 PM</td>\n",
       "      <td>NYPD</td>\n",
       "      <td>Illegal Parking</td>\n",
       "      <td>Overnight Commercial Storage</td>\n",
       "      <td>Street/Sidewalk</td>\n",
       "      <td>17 BROOKLYN</td>\n",
       "      <td>BROOKLYN</td>\n",
       "      <td>40.634384</td>\n",
       "      <td>-73.941525</td>\n",
       "      <td>2015-09-04 07:48:25</td>\n",
       "      <td>2015-09-04 17:21:18</td>\n",
       "      <td>2015-09-04</td>\n",
       "      <td>4</td>\n",
       "      <td>1</td>\n",
       "    </tr>\n",
       "    <tr>\n",
       "      <th>1</th>\n",
       "      <td>09/04/2015 11:31:12 AM</td>\n",
       "      <td>09/04/2015 03:01:54 PM</td>\n",
       "      <td>NYPD</td>\n",
       "      <td>Illegal Parking</td>\n",
       "      <td>Overnight Commercial Storage</td>\n",
       "      <td>Street/Sidewalk</td>\n",
       "      <td>12 BROOKLYN</td>\n",
       "      <td>BROOKLYN</td>\n",
       "      <td>40.629344</td>\n",
       "      <td>-73.978128</td>\n",
       "      <td>2015-09-04 11:31:12</td>\n",
       "      <td>2015-09-04 15:01:54</td>\n",
       "      <td>2015-09-04</td>\n",
       "      <td>4</td>\n",
       "      <td>1</td>\n",
       "    </tr>\n",
       "    <tr>\n",
       "      <th>2</th>\n",
       "      <td>09/04/2015 07:02:24 AM</td>\n",
       "      <td>09/04/2015 01:55:53 PM</td>\n",
       "      <td>NYPD</td>\n",
       "      <td>Illegal Parking</td>\n",
       "      <td>Posted Parking Sign Violation</td>\n",
       "      <td>Street/Sidewalk</td>\n",
       "      <td>05 BROOKLYN</td>\n",
       "      <td>BROOKLYN</td>\n",
       "      <td>40.684290</td>\n",
       "      <td>-73.866488</td>\n",
       "      <td>2015-09-04 07:02:24</td>\n",
       "      <td>2015-09-04 13:55:53</td>\n",
       "      <td>2015-09-04</td>\n",
       "      <td>4</td>\n",
       "      <td>1</td>\n",
       "    </tr>\n",
       "    <tr>\n",
       "      <th>3</th>\n",
       "      <td>09/04/2015 12:34:05 PM</td>\n",
       "      <td>09/04/2015 01:38:47 PM</td>\n",
       "      <td>NYPD</td>\n",
       "      <td>Illegal Parking</td>\n",
       "      <td>Posted Parking Sign Violation</td>\n",
       "      <td>Street/Sidewalk</td>\n",
       "      <td>10 MANHATTAN</td>\n",
       "      <td>MANHATTAN</td>\n",
       "      <td>40.804551</td>\n",
       "      <td>-73.952750</td>\n",
       "      <td>2015-09-04 12:34:05</td>\n",
       "      <td>2015-09-04 13:38:47</td>\n",
       "      <td>2015-09-04</td>\n",
       "      <td>4</td>\n",
       "      <td>1</td>\n",
       "    </tr>\n",
       "    <tr>\n",
       "      <th>4</th>\n",
       "      <td>09/04/2015 07:56:42 PM</td>\n",
       "      <td>09/04/2015 09:18:31 PM</td>\n",
       "      <td>NYPD</td>\n",
       "      <td>Illegal Parking</td>\n",
       "      <td>Posted Parking Sign Violation</td>\n",
       "      <td>Street/Sidewalk</td>\n",
       "      <td>01 STATEN ISLAND</td>\n",
       "      <td>STATEN ISLAND</td>\n",
       "      <td>40.622905</td>\n",
       "      <td>-74.157960</td>\n",
       "      <td>2015-09-04 19:56:42</td>\n",
       "      <td>2015-09-04 21:18:31</td>\n",
       "      <td>2015-09-04</td>\n",
       "      <td>4</td>\n",
       "      <td>1</td>\n",
       "    </tr>\n",
       "  </tbody>\n",
       "</table>\n",
       "</div>"
      ],
      "text/plain": [
       "             Created Date             Closed Date Agency   Complaint Type  \\\n",
       "0  09/04/2015 07:48:25 AM  09/04/2015 05:21:18 PM   NYPD  Illegal Parking   \n",
       "1  09/04/2015 11:31:12 AM  09/04/2015 03:01:54 PM   NYPD  Illegal Parking   \n",
       "2  09/04/2015 07:02:24 AM  09/04/2015 01:55:53 PM   NYPD  Illegal Parking   \n",
       "3  09/04/2015 12:34:05 PM  09/04/2015 01:38:47 PM   NYPD  Illegal Parking   \n",
       "4  09/04/2015 07:56:42 PM  09/04/2015 09:18:31 PM   NYPD  Illegal Parking   \n",
       "\n",
       "                      Descriptor    Location Type   Community Board  \\\n",
       "0   Overnight Commercial Storage  Street/Sidewalk       17 BROOKLYN   \n",
       "1   Overnight Commercial Storage  Street/Sidewalk       12 BROOKLYN   \n",
       "2  Posted Parking Sign Violation  Street/Sidewalk       05 BROOKLYN   \n",
       "3  Posted Parking Sign Violation  Street/Sidewalk      10 MANHATTAN   \n",
       "4  Posted Parking Sign Violation  Street/Sidewalk  01 STATEN ISLAND   \n",
       "\n",
       "         Borough   Latitude  Longitude    create_date_time  \\\n",
       "0       BROOKLYN  40.634384 -73.941525 2015-09-04 07:48:25   \n",
       "1       BROOKLYN  40.629344 -73.978128 2015-09-04 11:31:12   \n",
       "2       BROOKLYN  40.684290 -73.866488 2015-09-04 07:02:24   \n",
       "3      MANHATTAN  40.804551 -73.952750 2015-09-04 12:34:05   \n",
       "4  STATEN ISLAND  40.622905 -74.157960 2015-09-04 19:56:42   \n",
       "\n",
       "     closed_date_time create_date  day_of_week  weekend  \n",
       "0 2015-09-04 17:21:18  2015-09-04            4        1  \n",
       "1 2015-09-04 15:01:54  2015-09-04            4        1  \n",
       "2 2015-09-04 13:55:53  2015-09-04            4        1  \n",
       "3 2015-09-04 13:38:47  2015-09-04            4        1  \n",
       "4 2015-09-04 21:18:31  2015-09-04            4        1  "
      ]
     },
     "execution_count": 13,
     "metadata": {},
     "output_type": "execute_result"
    }
   ],
   "source": [
    "nypd_df.head()"
   ]
  },
  {
   "cell_type": "markdown",
   "metadata": {},
   "source": [
    "### Time Series of Counts "
   ]
  },
  {
   "cell_type": "code",
   "execution_count": 18,
   "metadata": {
    "collapsed": false
   },
   "outputs": [],
   "source": [
    "nypd_count_df = nypd_df.groupby(['create_date'], as_index=False)['Agency'].count()\n",
    "nypd_count_df.columns = ['create_date', 'sidewalk_parking_count']"
   ]
  },
  {
   "cell_type": "code",
   "execution_count": 19,
   "metadata": {
    "collapsed": false
   },
   "outputs": [
    {
     "data": {
      "text/plain": [
       "<matplotlib.axes._subplots.AxesSubplot at 0x1482fb7d0>"
      ]
     },
     "execution_count": 19,
     "metadata": {},
     "output_type": "execute_result"
    },
    {
     "data": {
      "image/png": "[encoded data removed]",
      "text/plain": [
       "<matplotlib.figure.Figure at 0x1469f4d90>"
      ]
     },
     "metadata": {},
     "output_type": "display_data"
    }
   ],
   "source": [
    "nypd_count_df[['create_date', 'sidewalk_parking_count']].plot()"
   ]
  },
  {
   "cell_type": "code",
   "execution_count": null,
   "metadata": {
    "collapsed": true
   },
   "outputs": [],
   "source": []
  }
 ],
 "metadata": {
  "anaconda-cloud": {},
  "kernelspec": {
   "display_name": "Python [Root]",
   "language": "python",
   "name": "Python [Root]"
  },
  "language_info": {
   "codemirror_mode": {
    "name": "ipython",
    "version": 2
   },
   "file_extension": ".py",
   "mimetype": "text/x-python",
   "name": "python",
   "nbconvert_exporter": "python",
   "pygments_lexer": "ipython2",
   "version": "2.7.12"
  }
 },
 "nbformat": 4,
 "nbformat_minor": 2
}
