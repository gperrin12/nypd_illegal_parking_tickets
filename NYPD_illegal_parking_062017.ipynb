{
 "cells": [
  {
   "cell_type": "markdown",
   "metadata": {},
   "source": [
    "## Where and When Should I Not Be Parking Illegally in NYC?"
   ]
  },
  {
   "cell_type": "code",
   "execution_count": 21,
   "metadata": {
    "collapsed": false
   },
   "outputs": [],
   "source": [
    "import os\n",
    "import pandas as pd\n",
    "import geopandas as gpd\n",
    "import subprocess\n",
    "from geopandas.tools import geocode\n",
    "import re\n",
    "from matplotlib import pyplot as plt\n",
    "from mpl_toolkits.mplot3d import Axes3D\n",
    "import numpy as np\n",
    "\n",
    "%matplotlib inline\n",
    "#%pylab inline\n",
    "pd.options.display.max_columns = 120\n",
    "pd.options.display.max_rows = 120\n",
    "#%matplotlib notebook"
   ]
  },
  {
   "cell_type": "code",
   "execution_count": 22,
   "metadata": {
    "collapsed": true
   },
   "outputs": [],
   "source": [
    "data_folder = '/Users/geoffperrin/Desktop/python_sandbox/NYPD/data'"
   ]
  },
  {
   "cell_type": "markdown",
   "metadata": {},
   "source": [
    "### Read in NYPD parking data"
   ]
  },
  {
   "cell_type": "code",
   "execution_count": 23,
   "metadata": {
    "collapsed": false
   },
   "outputs": [
    {
     "data": {
      "text/html": [
       "<div>\n",
       "<table border=\"1\" class=\"dataframe\">\n",
       "  <thead>\n",
       "    <tr style=\"text-align: right;\">\n",
       "      <th></th>\n",
       "      <th>Created Date</th>\n",
       "      <th>Closed Date</th>\n",
       "      <th>Agency</th>\n",
       "      <th>Complaint Type</th>\n",
       "      <th>Descriptor</th>\n",
       "      <th>Location Type</th>\n",
       "      <th>Community Board</th>\n",
       "      <th>Borough</th>\n",
       "      <th>Latitude</th>\n",
       "      <th>Longitude</th>\n",
       "    </tr>\n",
       "  </thead>\n",
       "  <tbody>\n",
       "    <tr>\n",
       "      <th>9</th>\n",
       "      <td>09/04/2015 08:52:01 PM</td>\n",
       "      <td>09/04/2015 11:24:31 PM</td>\n",
       "      <td>NYPD</td>\n",
       "      <td>Illegal Parking</td>\n",
       "      <td>Blocked Sidewalk</td>\n",
       "      <td>Street/Sidewalk</td>\n",
       "      <td>05 QUEENS</td>\n",
       "      <td>QUEENS</td>\n",
       "      <td>40.722005</td>\n",
       "      <td>-73.904019</td>\n",
       "    </tr>\n",
       "    <tr>\n",
       "      <th>37</th>\n",
       "      <td>09/04/2015 04:43:36 PM</td>\n",
       "      <td>09/04/2015 10:15:45 PM</td>\n",
       "      <td>NYPD</td>\n",
       "      <td>Illegal Parking</td>\n",
       "      <td>Blocked Sidewalk</td>\n",
       "      <td>Street/Sidewalk</td>\n",
       "      <td>03 STATEN ISLAND</td>\n",
       "      <td>STATEN ISLAND</td>\n",
       "      <td>40.562832</td>\n",
       "      <td>-74.148151</td>\n",
       "    </tr>\n",
       "    <tr>\n",
       "      <th>46</th>\n",
       "      <td>09/04/2015 08:46:01 AM</td>\n",
       "      <td>09/04/2015 12:14:42 PM</td>\n",
       "      <td>NYPD</td>\n",
       "      <td>Illegal Parking</td>\n",
       "      <td>Blocked Sidewalk</td>\n",
       "      <td>Street/Sidewalk</td>\n",
       "      <td>02 STATEN ISLAND</td>\n",
       "      <td>STATEN ISLAND</td>\n",
       "      <td>40.593806</td>\n",
       "      <td>-74.075633</td>\n",
       "    </tr>\n",
       "    <tr>\n",
       "      <th>54</th>\n",
       "      <td>09/05/2015 12:03:41 AM</td>\n",
       "      <td>NaN</td>\n",
       "      <td>NYPD</td>\n",
       "      <td>Illegal Parking</td>\n",
       "      <td>Blocked Sidewalk</td>\n",
       "      <td>Street/Sidewalk</td>\n",
       "      <td>0 Unspecified</td>\n",
       "      <td>Unspecified</td>\n",
       "      <td>NaN</td>\n",
       "      <td>NaN</td>\n",
       "    </tr>\n",
       "    <tr>\n",
       "      <th>57</th>\n",
       "      <td>09/04/2015 07:17:15 PM</td>\n",
       "      <td>09/05/2015 02:51:48 AM</td>\n",
       "      <td>NYPD</td>\n",
       "      <td>Illegal Parking</td>\n",
       "      <td>Blocked Sidewalk</td>\n",
       "      <td>Street/Sidewalk</td>\n",
       "      <td>01 BROOKLYN</td>\n",
       "      <td>BROOKLYN</td>\n",
       "      <td>40.713757</td>\n",
       "      <td>-73.936055</td>\n",
       "    </tr>\n",
       "  </tbody>\n",
       "</table>\n",
       "</div>"
      ],
      "text/plain": [
       "              Created Date             Closed Date Agency   Complaint Type  \\\n",
       "9   09/04/2015 08:52:01 PM  09/04/2015 11:24:31 PM   NYPD  Illegal Parking   \n",
       "37  09/04/2015 04:43:36 PM  09/04/2015 10:15:45 PM   NYPD  Illegal Parking   \n",
       "46  09/04/2015 08:46:01 AM  09/04/2015 12:14:42 PM   NYPD  Illegal Parking   \n",
       "54  09/05/2015 12:03:41 AM                     NaN   NYPD  Illegal Parking   \n",
       "57  09/04/2015 07:17:15 PM  09/05/2015 02:51:48 AM   NYPD  Illegal Parking   \n",
       "\n",
       "          Descriptor    Location Type   Community Board        Borough  \\\n",
       "9   Blocked Sidewalk  Street/Sidewalk         05 QUEENS         QUEENS   \n",
       "37  Blocked Sidewalk  Street/Sidewalk  03 STATEN ISLAND  STATEN ISLAND   \n",
       "46  Blocked Sidewalk  Street/Sidewalk  02 STATEN ISLAND  STATEN ISLAND   \n",
       "54  Blocked Sidewalk  Street/Sidewalk     0 Unspecified    Unspecified   \n",
       "57  Blocked Sidewalk  Street/Sidewalk       01 BROOKLYN       BROOKLYN   \n",
       "\n",
       "     Latitude  Longitude  \n",
       "9   40.722005 -73.904019  \n",
       "37  40.562832 -74.148151  \n",
       "46  40.593806 -74.075633  \n",
       "54        NaN        NaN  \n",
       "57  40.713757 -73.936055  "
      ]
     },
     "execution_count": 23,
     "metadata": {},
     "output_type": "execute_result"
    }
   ],
   "source": [
    "'''\n",
    "taken from:\n",
    "https://data.cityofnewyork.us/Social-Services/nypd-7-major-felony-incidents/k384-xu3q/data\n",
    "filtered to Agency: NYPD\n",
    "Complaint Type: Illegal Parking\n",
    "'''\n",
    "\n",
    "nypd_df_raw = pd.read_csv(data_folder+'/nypd_7_major_felony_incidents.csv')\n",
    "nypd_df = nypd_df_raw[['Created Date', 'Closed Date', 'Agency', 'Complaint Type', 'Descriptor', 'Location Type', \\\n",
    "                       'Community Board', 'Borough', 'Latitude', 'Longitude']]\n",
    "\n",
    "#subset to just blocked sidewalks\n",
    "nypd_df = nypd_df[nypd_df.Descriptor == \"Blocked Sidewalk\"]\n",
    "nypd_df.head()"
   ]
  },
  {
   "cell_type": "code",
   "execution_count": 24,
   "metadata": {
    "collapsed": false
   },
   "outputs": [],
   "source": [
    "nypd_df['create_date_time'] = pd.to_datetime(nypd_df['Created Date'])\n",
    "nypd_df['closed_date_time'] = pd.to_datetime(nypd_df['Closed Date'])"
   ]
  },
  {
   "cell_type": "code",
   "execution_count": 25,
   "metadata": {
    "collapsed": false
   },
   "outputs": [
    {
     "name": "stderr",
     "output_type": "stream",
     "text": [
      "/Users/geoffperrin/anaconda2/lib/python2.7/site-packages/ipykernel/__main__.py:6: SettingWithCopyWarning: \n",
      "A value is trying to be set on a copy of a slice from a DataFrame\n",
      "\n",
      "See the caveats in the documentation: http://pandas.pydata.org/pandas-docs/stable/indexing.html#indexing-view-versus-copy\n"
     ]
    }
   ],
   "source": [
    "nypd_df['create_date'] = nypd_df['create_date_time'].dt.date\n",
    "nypd_df['day_of_week'] = nypd_df.create_date.apply(lambda x: x.weekday())\n",
    "\n",
    "#control for Friday / Saturday nights\n",
    "nypd_df['weekend'] = 0\n",
    "nypd_df['weekend'][(nypd_df['day_of_week'] == 4) | (nypd_df['day_of_week'] == 5)] = 1\n",
    "\n",
    "#control for hour of day\n",
    "nypd_df['hour_of_day'] = nypd_df.create_date_time.apply(lambda x: x.hour)"
   ]
  },
  {
   "cell_type": "code",
   "execution_count": 26,
   "metadata": {
    "collapsed": false
   },
   "outputs": [
    {
     "name": "stderr",
     "output_type": "stream",
     "text": [
      "/Users/geoffperrin/anaconda2/lib/python2.7/site-packages/ipykernel/__main__.py:1: FutureWarning: sort(columns=....) is deprecated, use sort_values(by=.....)\n",
      "  if __name__ == '__main__':\n"
     ]
    },
    {
     "data": {
      "text/html": [
       "<div>\n",
       "<table border=\"1\" class=\"dataframe\">\n",
       "  <thead>\n",
       "    <tr style=\"text-align: right;\">\n",
       "      <th></th>\n",
       "      <th>Created Date</th>\n",
       "      <th>Closed Date</th>\n",
       "      <th>Agency</th>\n",
       "      <th>Complaint Type</th>\n",
       "      <th>Descriptor</th>\n",
       "      <th>Location Type</th>\n",
       "      <th>Community Board</th>\n",
       "      <th>Borough</th>\n",
       "      <th>Latitude</th>\n",
       "      <th>Longitude</th>\n",
       "      <th>create_date_time</th>\n",
       "      <th>closed_date_time</th>\n",
       "      <th>create_date</th>\n",
       "      <th>day_of_week</th>\n",
       "      <th>weekend</th>\n",
       "      <th>hour_of_day</th>\n",
       "    </tr>\n",
       "  </thead>\n",
       "  <tbody>\n",
       "    <tr>\n",
       "      <th>133642</th>\n",
       "      <td>06/03/2010 03:41:11 PM</td>\n",
       "      <td>06/03/2010 04:49:08 PM</td>\n",
       "      <td>NYPD</td>\n",
       "      <td>Illegal Parking</td>\n",
       "      <td>Blocked Sidewalk</td>\n",
       "      <td>Street/Sidewalk</td>\n",
       "      <td>05 MANHATTAN</td>\n",
       "      <td>MANHATTAN</td>\n",
       "      <td>40.762334</td>\n",
       "      <td>-73.980370</td>\n",
       "      <td>2010-06-03 15:41:11</td>\n",
       "      <td>2010-06-03 16:49:08</td>\n",
       "      <td>2010-06-03</td>\n",
       "      <td>3</td>\n",
       "      <td>0</td>\n",
       "      <td>15</td>\n",
       "    </tr>\n",
       "    <tr>\n",
       "      <th>133666</th>\n",
       "      <td>06/03/2010 04:09:26 PM</td>\n",
       "      <td>06/03/2010 04:23:23 PM</td>\n",
       "      <td>NYPD</td>\n",
       "      <td>Illegal Parking</td>\n",
       "      <td>Blocked Sidewalk</td>\n",
       "      <td>Street/Sidewalk</td>\n",
       "      <td>06 MANHATTAN</td>\n",
       "      <td>MANHATTAN</td>\n",
       "      <td>40.747629</td>\n",
       "      <td>-73.976736</td>\n",
       "      <td>2010-06-03 16:09:26</td>\n",
       "      <td>2010-06-03 16:23:23</td>\n",
       "      <td>2010-06-03</td>\n",
       "      <td>3</td>\n",
       "      <td>0</td>\n",
       "      <td>16</td>\n",
       "    </tr>\n",
       "    <tr>\n",
       "      <th>133653</th>\n",
       "      <td>06/03/2010 05:41:12 PM</td>\n",
       "      <td>06/04/2010 07:18:51 AM</td>\n",
       "      <td>NYPD</td>\n",
       "      <td>Illegal Parking</td>\n",
       "      <td>Blocked Sidewalk</td>\n",
       "      <td>Street/Sidewalk</td>\n",
       "      <td>01 STATEN ISLAND</td>\n",
       "      <td>STATEN ISLAND</td>\n",
       "      <td>40.618095</td>\n",
       "      <td>-74.086207</td>\n",
       "      <td>2010-06-03 17:41:12</td>\n",
       "      <td>2010-06-04 07:18:51</td>\n",
       "      <td>2010-06-03</td>\n",
       "      <td>3</td>\n",
       "      <td>0</td>\n",
       "      <td>17</td>\n",
       "    </tr>\n",
       "    <tr>\n",
       "      <th>133643</th>\n",
       "      <td>06/03/2010 07:14:56 PM</td>\n",
       "      <td>06/04/2010 12:21:08 AM</td>\n",
       "      <td>NYPD</td>\n",
       "      <td>Illegal Parking</td>\n",
       "      <td>Blocked Sidewalk</td>\n",
       "      <td>Street/Sidewalk</td>\n",
       "      <td>09 MANHATTAN</td>\n",
       "      <td>MANHATTAN</td>\n",
       "      <td>40.814067</td>\n",
       "      <td>-73.960362</td>\n",
       "      <td>2010-06-03 19:14:56</td>\n",
       "      <td>2010-06-04 00:21:08</td>\n",
       "      <td>2010-06-03</td>\n",
       "      <td>3</td>\n",
       "      <td>0</td>\n",
       "      <td>19</td>\n",
       "    </tr>\n",
       "    <tr>\n",
       "      <th>133768</th>\n",
       "      <td>06/04/2010 06:55:34 AM</td>\n",
       "      <td>06/04/2010 11:06:31 AM</td>\n",
       "      <td>NYPD</td>\n",
       "      <td>Illegal Parking</td>\n",
       "      <td>Blocked Sidewalk</td>\n",
       "      <td>Street/Sidewalk</td>\n",
       "      <td>18 BROOKLYN</td>\n",
       "      <td>BROOKLYN</td>\n",
       "      <td>40.639118</td>\n",
       "      <td>-73.910998</td>\n",
       "      <td>2010-06-04 06:55:34</td>\n",
       "      <td>2010-06-04 11:06:31</td>\n",
       "      <td>2010-06-04</td>\n",
       "      <td>4</td>\n",
       "      <td>1</td>\n",
       "      <td>6</td>\n",
       "    </tr>\n",
       "  </tbody>\n",
       "</table>\n",
       "</div>"
      ],
      "text/plain": [
       "                  Created Date             Closed Date Agency  \\\n",
       "133642  06/03/2010 03:41:11 PM  06/03/2010 04:49:08 PM   NYPD   \n",
       "133666  06/03/2010 04:09:26 PM  06/03/2010 04:23:23 PM   NYPD   \n",
       "133653  06/03/2010 05:41:12 PM  06/04/2010 07:18:51 AM   NYPD   \n",
       "133643  06/03/2010 07:14:56 PM  06/04/2010 12:21:08 AM   NYPD   \n",
       "133768  06/04/2010 06:55:34 AM  06/04/2010 11:06:31 AM   NYPD   \n",
       "\n",
       "         Complaint Type        Descriptor    Location Type   Community Board  \\\n",
       "133642  Illegal Parking  Blocked Sidewalk  Street/Sidewalk      05 MANHATTAN   \n",
       "133666  Illegal Parking  Blocked Sidewalk  Street/Sidewalk      06 MANHATTAN   \n",
       "133653  Illegal Parking  Blocked Sidewalk  Street/Sidewalk  01 STATEN ISLAND   \n",
       "133643  Illegal Parking  Blocked Sidewalk  Street/Sidewalk      09 MANHATTAN   \n",
       "133768  Illegal Parking  Blocked Sidewalk  Street/Sidewalk       18 BROOKLYN   \n",
       "\n",
       "              Borough   Latitude  Longitude    create_date_time  \\\n",
       "133642      MANHATTAN  40.762334 -73.980370 2010-06-03 15:41:11   \n",
       "133666      MANHATTAN  40.747629 -73.976736 2010-06-03 16:09:26   \n",
       "133653  STATEN ISLAND  40.618095 -74.086207 2010-06-03 17:41:12   \n",
       "133643      MANHATTAN  40.814067 -73.960362 2010-06-03 19:14:56   \n",
       "133768       BROOKLYN  40.639118 -73.910998 2010-06-04 06:55:34   \n",
       "\n",
       "          closed_date_time create_date  day_of_week  weekend  hour_of_day  \n",
       "133642 2010-06-03 16:49:08  2010-06-03            3        0           15  \n",
       "133666 2010-06-03 16:23:23  2010-06-03            3        0           16  \n",
       "133653 2010-06-04 07:18:51  2010-06-03            3        0           17  \n",
       "133643 2010-06-04 00:21:08  2010-06-03            3        0           19  \n",
       "133768 2010-06-04 11:06:31  2010-06-04            4        1            6  "
      ]
     },
     "execution_count": 26,
     "metadata": {},
     "output_type": "execute_result"
    }
   ],
   "source": [
    "nypd_df.sort(['create_date_time']).head()"
   ]
  },
  {
   "cell_type": "markdown",
   "metadata": {},
   "source": [
    "### Time Series of Counts "
   ]
  },
  {
   "cell_type": "code",
   "execution_count": 27,
   "metadata": {
    "collapsed": false
   },
   "outputs": [],
   "source": [
    "nypd_count_df = nypd_df.groupby(['create_date'], as_index=False)['Agency'].count()\n",
    "nypd_count_df.columns = ['create_date', 'sidewalk_parking_count']"
   ]
  },
  {
   "cell_type": "code",
   "execution_count": 28,
   "metadata": {
    "collapsed": false
   },
   "outputs": [
    {
     "data": {
      "text/plain": [
       "<matplotlib.text.Text at 0x1309de9d0>"
      ]
     },
     "execution_count": 28,
     "metadata": {},
     "output_type": "execute_result"
    },
    {
     "data": {
      "image/png": "[encoded data removed]",
      "text/plain": [
       "<matplotlib.figure.Figure at 0x130a66e10>"
      ]
     },
     "metadata": {},
     "output_type": "display_data"
    }
   ],
   "source": [
    "plt.plot(nypd_count_df[['sidewalk_parking_count']])\n",
    "plt.xlabel('days since June 3rd 2010')\n",
    "plt.ylabel('sidewalk parking ticket count')\n",
    "plt.title('Plot of Sidewalk Parking Ticket Count vs Days Since June 3rd 2010')"
   ]
  },
  {
   "cell_type": "markdown",
   "metadata": {},
   "source": [
    "Note: I don't have a way to account for changes in vehicle counts across time, as I only have the ACS snapshot for 2015. However, since we are dealing with a relatively short 7 year period, I think it's safe to assume the vehicle count across the entire city is relatively constant across that time. With that assumption in place, we can see a gradual increase in the count of sidewalk parking tickets across the time span."
   ]
  },
  {
   "cell_type": "markdown",
   "metadata": {},
   "source": [
    "### Count by Hour of Day"
   ]
  },
  {
   "cell_type": "code",
   "execution_count": 29,
   "metadata": {
    "collapsed": true
   },
   "outputs": [],
   "source": [
    "nypd_hour_df = nypd_df.groupby(['hour_of_day'], as_index=False)['Agency'].count()\n",
    "nypd_hour_df.columns = ['hour_of_day', 'sidewalk_parking_count']"
   ]
  },
  {
   "cell_type": "code",
   "execution_count": 30,
   "metadata": {
    "collapsed": false
   },
   "outputs": [
    {
     "data": {
      "text/plain": [
       "<matplotlib.text.Text at 0x1309cbb50>"
      ]
     },
     "execution_count": 30,
     "metadata": {},
     "output_type": "execute_result"
    },
    {
     "data": {
      "image/png": "[encoded data removed]",
      "text/plain": [
       "<matplotlib.figure.Figure at 0x1309d3dd0>"
      ]
     },
     "metadata": {},
     "output_type": "display_data"
    }
   ],
   "source": [
    "plt.plot(nypd_hour_df[['sidewalk_parking_count']])\n",
    "plt.xlabel('Hour of Day number')\n",
    "plt.ylabel('sidewalk parking ticket count')\n",
    "plt.title('Plot of Sidewalk Parking Ticket Count vs Hour of Day')"
   ]
  },
  {
   "cell_type": "markdown",
   "metadata": {},
   "source": [
    "We can see a spike in the count of sidewalk parking tickets in the morning at 9am, and a gradual decline as the day wears on."
   ]
  },
  {
   "cell_type": "markdown",
   "metadata": {},
   "source": [
    "### Count by Day of Week"
   ]
  },
  {
   "cell_type": "code",
   "execution_count": 31,
   "metadata": {
    "collapsed": true
   },
   "outputs": [],
   "source": [
    "nypd_day_df = nypd_df.groupby(['day_of_week'], as_index=False)['Agency'].count()\n",
    "nypd_day_df.columns = ['day_of_week', 'sidewalk_parking_count']"
   ]
  },
  {
   "cell_type": "code",
   "execution_count": 32,
   "metadata": {
    "collapsed": false
   },
   "outputs": [
    {
     "data": {
      "text/plain": [
       "<matplotlib.text.Text at 0x1309b9dd0>"
      ]
     },
     "execution_count": 32,
     "metadata": {},
     "output_type": "execute_result"
    },
    {
     "data": {
      "image/png": "[encoded data removed]",
      "text/plain": [
       "<matplotlib.figure.Figure at 0x1309ceed0>"
      ]
     },
     "metadata": {},
     "output_type": "display_data"
    }
   ],
   "source": [
    "plt.plot(nypd_day_df[['sidewalk_parking_count']])\n",
    "plt.xlabel('Day of Week')\n",
    "plt.ylabel('sidewalk parking ticket count')\n",
    "plt.title('Plot of Sidewalk Parking Ticket Count vs Day of Week (0 is Monday)')"
   ]
  },
  {
   "cell_type": "markdown",
   "metadata": {},
   "source": [
    "Looks like ticket count drops off dramatically on Saturdays and Sundays, indicating the ticketers really are only working on weekdays."
   ]
  },
  {
   "cell_type": "markdown",
   "metadata": {},
   "source": [
    "### Count by Day of Week / Hour of Day"
   ]
  },
  {
   "cell_type": "code",
   "execution_count": 33,
   "metadata": {
    "collapsed": true
   },
   "outputs": [],
   "source": [
    "nypd_day_hour_df = nypd_df.groupby(['day_of_week', 'hour_of_day'], as_index=False)['Agency'].count()\n",
    "nypd_day_hour_df.columns = ['day_of_week', 'hour_of_day', 'sidewalk_parking_count']"
   ]
  },
  {
   "cell_type": "code",
   "execution_count": 34,
   "metadata": {
    "collapsed": false
   },
   "outputs": [
    {
     "data": {
      "image/png": "[encoded data removed]",
      "text/plain": [
       "<matplotlib.figure.Figure at 0x1309b27d0>"
      ]
     },
     "metadata": {},
     "output_type": "display_data"
    }
   ],
   "source": [
    "fig = plt.figure()\n",
    "ax = Axes3D(fig)\n",
    "\n",
    "ax.scatter(nypd_day_hour_df.day_of_week, nypd_day_hour_df.hour_of_day, nypd_day_hour_df.sidewalk_parking_count)\n",
    "ax.set_xlabel('Day of Week Number')\n",
    "ax.set_ylabel('Hour of Day')\n",
    "ax.set_zlabel('Sidewalk Parking Ticket Count')\n",
    "ax.set_title('Plot of Sidewalk Parking Ticket Count vs Day of Week (0 is Monday) vs Hour of Day')\n",
    "plt.show()"
   ]
  },
  {
   "cell_type": "markdown",
   "metadata": {},
   "source": [
    "### Read in ACS Data"
   ]
  },
  {
   "cell_type": "code",
   "execution_count": 35,
   "metadata": {
    "collapsed": false
   },
   "outputs": [],
   "source": [
    "'''\n",
    "taken from: \n",
    "https://public.enigma.com/datasets/household-size-by-vehicles-available/f9d2a838-00ce-4d17-90bb-9a20e22f515a?filter=%2B%5B%3Estusab%5BNY%5D%5D\n",
    "'''\n",
    "acs_df_raw = pd.read_csv(data_folder+'/ACS_vehicle_data.csv')\n",
    "#subset to just NYC\n",
    "acs_df = acs_df_raw[(acs_df_raw.b08201_001 == \"795\") & (acs_df_raw.sumlevel == \"NY\")]\n",
    "acs_nyc_df = acs_df[acs_df['name'].str.contains(\"NYC\")]\n",
    "acs_nyc_df = acs_nyc_df.iloc[:,0:17]\n",
    "acs_nyc_df.columns = ['name', 'name2', 'geoid', 'state', 'summary_level', 'total_pop',\\\n",
    "                     'total_pop_moe', 'no_vehicle_pop', 'no_vehicle_pop_moe',\\\n",
    "                     'one_vehicle_pop', 'one_vehicle_pop_moe', 'two_vehicle_pop',\\\n",
    "                     'two_vehicle_pop_moe', 'three_vehicle_pop', 'three_vehicle_pop_moe',\\\n",
    "                     'four_or_more_vehicle_pop', 'four_or_more_vehicle_pop_moe']\n",
    "#acs_nyc_df = acs_nyc_df[acs_nyc_df.total_pop!=\"None\"]"
   ]
  },
  {
   "cell_type": "markdown",
   "metadata": {},
   "source": [
    "### Do a little regex stuff to get useable x-walk for community district name"
   ]
  },
  {
   "cell_type": "code",
   "execution_count": 36,
   "metadata": {
    "collapsed": false
   },
   "outputs": [],
   "source": [
    "# Harmonize community district name for ACS\n",
    "\n",
    "dict_boro2 = {'Bronx': 'BX', 'Brooklyn': 'BK', 'Manhattan': 'MN', 'Staten': 'SI', 'Queens': 'QN'}\n",
    "\n",
    "def add_zero(f):\n",
    "    if len(f) == 1:\n",
    "        return '0'+f\n",
    "    else:\n",
    "        return f\n",
    "\n",
    "acs_nyc_df['cd_num'] = [re.search(\"[0-9]+\", i).group(0) for i in acs_nyc_df['name']]\n",
    "acs_nyc_df['cd_num_2'] = [add_zero(i) for i in acs_nyc_df['cd_num']]\n",
    "\n",
    "acs_nyc_df['boro'] = [dict_boro2[re.search('[^\\s]+', i[4:]).group(0)] for i in acs_nyc_df['name']]\n",
    "\n",
    "acs_nyc_df['cd_id'] = acs_nyc_df['boro'] + acs_nyc_df['cd_num_2']"
   ]
  },
  {
   "cell_type": "code",
   "execution_count": 37,
   "metadata": {
    "collapsed": true
   },
   "outputs": [],
   "source": [
    "acs_nyc_df = acs_nyc_df.replace(to_replace=\"None\", value=0)"
   ]
  },
  {
   "cell_type": "code",
   "execution_count": 38,
   "metadata": {
    "collapsed": false,
    "scrolled": true
   },
   "outputs": [
    {
     "data": {
      "text/html": [
       "<div>\n",
       "<table border=\"1\" class=\"dataframe\">\n",
       "  <thead>\n",
       "    <tr style=\"text-align: right;\">\n",
       "      <th></th>\n",
       "      <th>cd_id</th>\n",
       "      <th>boro</th>\n",
       "      <th>total_pop</th>\n",
       "      <th>vehicle_pop</th>\n",
       "    </tr>\n",
       "  </thead>\n",
       "  <tbody>\n",
       "    <tr>\n",
       "      <th>3252</th>\n",
       "      <td>MN06</td>\n",
       "      <td>MN</td>\n",
       "      <td>0</td>\n",
       "      <td>0</td>\n",
       "    </tr>\n",
       "    <tr>\n",
       "      <th>4426</th>\n",
       "      <td>BX08</td>\n",
       "      <td>BX</td>\n",
       "      <td>41340</td>\n",
       "      <td>31602</td>\n",
       "    </tr>\n",
       "    <tr>\n",
       "      <th>4427</th>\n",
       "      <td>BX12</td>\n",
       "      <td>BX</td>\n",
       "      <td>47321</td>\n",
       "      <td>38848</td>\n",
       "    </tr>\n",
       "    <tr>\n",
       "      <th>4428</th>\n",
       "      <td>BX10</td>\n",
       "      <td>BX</td>\n",
       "      <td>47025</td>\n",
       "      <td>43162</td>\n",
       "    </tr>\n",
       "    <tr>\n",
       "      <th>4429</th>\n",
       "      <td>BX11</td>\n",
       "      <td>BX</td>\n",
       "      <td>43622</td>\n",
       "      <td>34441</td>\n",
       "    </tr>\n",
       "  </tbody>\n",
       "</table>\n",
       "</div>"
      ],
      "text/plain": [
       "     cd_id boro  total_pop  vehicle_pop\n",
       "3252  MN06   MN          0            0\n",
       "4426  BX08   BX      41340        31602\n",
       "4427  BX12   BX      47321        38848\n",
       "4428  BX10   BX      47025        43162\n",
       "4429  BX11   BX      43622        34441"
      ]
     },
     "execution_count": 38,
     "metadata": {},
     "output_type": "execute_result"
    }
   ],
   "source": [
    "acs_nyc_df = acs_nyc_df.replace(to_replace=\"None\", value=0)\n",
    "acs_nyc_df = acs_nyc_df[['cd_id', 'boro', 'total_pop', 'no_vehicle_pop', 'one_vehicle_pop', 'two_vehicle_pop', \\\n",
    "                         'three_vehicle_pop', 'four_or_more_vehicle_pop']]\n",
    "acs_nyc_df['vehicle_pop'] = acs_nyc_df['one_vehicle_pop'].astype(int) + 2*acs_nyc_df['two_vehicle_pop'].astype(int) + \\\n",
    "                            3*acs_nyc_df['three_vehicle_pop'].astype(int) + 4*acs_nyc_df['four_or_more_vehicle_pop'].astype(int)\n",
    "\n",
    "acs_nyc_df['total_pop'] = acs_nyc_df['total_pop'].astype(int)\n",
    "acs_nyc_df = acs_nyc_df[['cd_id', 'boro', 'total_pop', 'vehicle_pop']]\n",
    "acs_nyc_df.head()"
   ]
  },
  {
   "cell_type": "markdown",
   "metadata": {},
   "source": [
    "### Merge ACS data to NYPD data"
   ]
  },
  {
   "cell_type": "code",
   "execution_count": 39,
   "metadata": {
    "collapsed": false
   },
   "outputs": [],
   "source": [
    "nypd_df['cd_num'] = nypd_df['Community Board'].str.split(' ', 1).str[0]\n",
    "nypd_df['cd_boro'] = nypd_df['Community Board'].str.split(' ', 1).str[1]"
   ]
  },
  {
   "cell_type": "code",
   "execution_count": 40,
   "metadata": {
    "collapsed": false
   },
   "outputs": [],
   "source": [
    "# Harmonize identifier\n",
    "\n",
    "dict_boro = {'BRONX': 'BX', 'BROOKLYN': 'BK', 'MANHATTAN': 'MN', 'STATEN ISLAND': 'SI', 'QUEENS': 'QN'}\n",
    "\n",
    "nypd_df['cd_num'] = nypd_df['Community Board'].str.split(' ', 1).str[0]\n",
    "nypd_df['cd_boro'] = nypd_df['Community Board'].str.split(' ', 1).str[1]\n",
    "\n",
    "nypd_df['cd_id'] = nypd_df['cd_boro'].map(dict_boro) + nypd_df['cd_num']\n",
    "nypd_df['day_hour'] = pd.to_datetime(nypd_df['create_date'].astype(str) + ' ' + nypd_df['hour_of_day'].astype(str)+':00')\n",
    "nypd_time_df = nypd_df.groupby(['cd_id', 'day_hour'], as_index=False)['Agency'].count()\n",
    "nypd_time_df.columns = ['cd_id', 'day_hour', 'sidewalk_parking_count']"
   ]
  },
  {
   "cell_type": "code",
   "execution_count": 41,
   "metadata": {
    "collapsed": false
   },
   "outputs": [],
   "source": [
    "### drop bad community districts\n",
    "nypd_time_df = nypd_time_df.dropna()\n",
    "nypd_time_df = nypd_time_df[nypd_time_df.cd_id.str[2:]!=\"Unspecified\"]\n",
    "nypd_time_df = nypd_time_df[nypd_time_df['cd_id'].str[2:].astype(int)<=18]"
   ]
  },
  {
   "cell_type": "code",
   "execution_count": 42,
   "metadata": {
    "collapsed": false
   },
   "outputs": [
    {
     "data": {
      "text/html": [
       "<div>\n",
       "<table border=\"1\" class=\"dataframe\">\n",
       "  <thead>\n",
       "    <tr style=\"text-align: right;\">\n",
       "      <th></th>\n",
       "      <th>cd_id</th>\n",
       "      <th>day_hour</th>\n",
       "      <th>sidewalk_parking_count</th>\n",
       "    </tr>\n",
       "  </thead>\n",
       "  <tbody>\n",
       "    <tr>\n",
       "      <th>0</th>\n",
       "      <td>BK01</td>\n",
       "      <td>2010-06-09 13:00:00</td>\n",
       "      <td>1</td>\n",
       "    </tr>\n",
       "    <tr>\n",
       "      <th>1</th>\n",
       "      <td>BK01</td>\n",
       "      <td>2010-06-09 18:00:00</td>\n",
       "      <td>1</td>\n",
       "    </tr>\n",
       "    <tr>\n",
       "      <th>2</th>\n",
       "      <td>BK01</td>\n",
       "      <td>2010-06-10 23:00:00</td>\n",
       "      <td>1</td>\n",
       "    </tr>\n",
       "    <tr>\n",
       "      <th>3</th>\n",
       "      <td>BK01</td>\n",
       "      <td>2010-06-11 16:00:00</td>\n",
       "      <td>1</td>\n",
       "    </tr>\n",
       "    <tr>\n",
       "      <th>4</th>\n",
       "      <td>BK01</td>\n",
       "      <td>2010-06-15 14:00:00</td>\n",
       "      <td>1</td>\n",
       "    </tr>\n",
       "  </tbody>\n",
       "</table>\n",
       "</div>"
      ],
      "text/plain": [
       "  cd_id            day_hour  sidewalk_parking_count\n",
       "0  BK01 2010-06-09 13:00:00                       1\n",
       "1  BK01 2010-06-09 18:00:00                       1\n",
       "2  BK01 2010-06-10 23:00:00                       1\n",
       "3  BK01 2010-06-11 16:00:00                       1\n",
       "4  BK01 2010-06-15 14:00:00                       1"
      ]
     },
     "execution_count": 42,
     "metadata": {},
     "output_type": "execute_result"
    }
   ],
   "source": [
    "nypd_time_df.head()"
   ]
  },
  {
   "cell_type": "code",
   "execution_count": 43,
   "metadata": {
    "collapsed": false
   },
   "outputs": [
    {
     "data": {
      "text/html": [
       "<div>\n",
       "<table border=\"1\" class=\"dataframe\">\n",
       "  <thead>\n",
       "    <tr style=\"text-align: right;\">\n",
       "      <th></th>\n",
       "      <th>cd_id</th>\n",
       "      <th>day_hour</th>\n",
       "      <th>sidewalk_parking_count</th>\n",
       "    </tr>\n",
       "  </thead>\n",
       "  <tbody>\n",
       "    <tr>\n",
       "      <th>0</th>\n",
       "      <td>BK01</td>\n",
       "      <td>2010-06-09 00:00:00</td>\n",
       "      <td>0.0</td>\n",
       "    </tr>\n",
       "    <tr>\n",
       "      <th>1</th>\n",
       "      <td>BK01</td>\n",
       "      <td>2010-06-09 01:00:00</td>\n",
       "      <td>0.0</td>\n",
       "    </tr>\n",
       "    <tr>\n",
       "      <th>2</th>\n",
       "      <td>BK01</td>\n",
       "      <td>2010-06-09 02:00:00</td>\n",
       "      <td>0.0</td>\n",
       "    </tr>\n",
       "    <tr>\n",
       "      <th>3</th>\n",
       "      <td>BK01</td>\n",
       "      <td>2010-06-09 03:00:00</td>\n",
       "      <td>0.0</td>\n",
       "    </tr>\n",
       "    <tr>\n",
       "      <th>4</th>\n",
       "      <td>BK01</td>\n",
       "      <td>2010-06-09 04:00:00</td>\n",
       "      <td>0.0</td>\n",
       "    </tr>\n",
       "  </tbody>\n",
       "</table>\n",
       "</div>"
      ],
      "text/plain": [
       "  cd_id            day_hour  sidewalk_parking_count\n",
       "0  BK01 2010-06-09 00:00:00                     0.0\n",
       "1  BK01 2010-06-09 01:00:00                     0.0\n",
       "2  BK01 2010-06-09 02:00:00                     0.0\n",
       "3  BK01 2010-06-09 03:00:00                     0.0\n",
       "4  BK01 2010-06-09 04:00:00                     0.0"
      ]
     },
     "execution_count": 43,
     "metadata": {},
     "output_type": "execute_result"
    }
   ],
   "source": [
    "#generate hourly date range for same number of weeks as mta data.\n",
    "hours = pd.date_range('6/9/2010', periods=(24*365*7)+(24*10), freq='H')\n",
    "blank_df = pd.DataFrame(columns=['cd_id','day_hour', 'sidewalk_parking_count'])\n",
    "for i in nypd_time_df['cd_id'].unique():\n",
    "    temp_df = pd.DataFrame(columns=['cd_id','day_hour', 'sidewalk_parking_count'])\n",
    "    temp_df['day_hour'] = hours\n",
    "    temp_df['sidewalk_parking_count'] = 0\n",
    "    temp_df['cd_id'] = str(i)\n",
    "    blank_df = pd.concat([blank_df, temp_df])\n",
    "\n",
    "nypd_time_df = blank_df.merge(nypd_time_df, on=['cd_id', 'day_hour'], how='left')\n",
    "nypd_time_df = nypd_time_df.fillna(0)\n",
    "nypd_time_df = nypd_time_df[['cd_id', 'day_hour', 'sidewalk_parking_count_y']]\n",
    "nypd_time_df.columns = ['cd_id', 'day_hour', 'sidewalk_parking_count']\n",
    "nypd_time_df.head()"
   ]
  },
  {
   "cell_type": "code",
   "execution_count": 50,
   "metadata": {
    "collapsed": false
   },
   "outputs": [],
   "source": [
    "nypd_cd_acs_df = nypd_time_df.merge(acs_nyc_df, on='cd_id', how='left')\n",
    "nypd_cd_acs_df['boro'] = nypd_cd_acs_df['cd_id'].str[:2]\n",
    "nypd_cd_acs_df = nypd_cd_acs_df.fillna(0)"
   ]
  },
  {
   "cell_type": "code",
   "execution_count": 52,
   "metadata": {
    "collapsed": false
   },
   "outputs": [],
   "source": [
    "#replace missing cd stats with boro averages\n",
    "replace_df = acs_nyc_df[acs_nyc_df.total_pop > 0]\n",
    "replace_df = replace_df.groupby(['boro'], as_index=False)['total_pop', 'vehicle_pop'].mean()"
   ]
  },
  {
   "cell_type": "code",
   "execution_count": 53,
   "metadata": {
    "collapsed": false
   },
   "outputs": [],
   "source": [
    "nypd_cd_acs_df = nypd_cd_acs_df.merge(replace_df, on='boro', how='left')"
   ]
  },
  {
   "cell_type": "code",
   "execution_count": 54,
   "metadata": {
    "collapsed": false
   },
   "outputs": [],
   "source": [
    "nypd_cd_acs_df['total_pop_x'] = np.where(nypd_cd_acs_df['total_pop_x'] == 0, nypd_cd_acs_df['total_pop_y'],\\\n",
    "                                          nypd_cd_acs_df['total_pop_x'])\n",
    "nypd_cd_acs_df['vehicle_pop_x'] = np.where(nypd_cd_acs_df['vehicle_pop_x']==0, nypd_cd_acs_df['vehicle_pop_y'],\\\n",
    "                                            nypd_cd_acs_df['vehicle_pop_x'])\n",
    "nypd_cd_acs_df = nypd_cd_acs_df[['cd_id', 'day_hour', 'total_pop_x', 'vehicle_pop_x', 'sidewalk_parking_count']]\n",
    "nypd_cd_acs_df.columns = ['cd_id', 'day_hour', 'total_pop', 'vehicle_pop', 'sidewalk_parking_count']"
   ]
  },
  {
   "cell_type": "code",
   "execution_count": 59,
   "metadata": {
    "collapsed": false
   },
   "outputs": [],
   "source": [
    "nypd_cd_acs_df['pct_sidewalk_parking'] = nypd_cd_acs_df.sidewalk_parking_count * 1.0 / nypd_cd_acs_df.vehicle_pop"
   ]
  },
  {
   "cell_type": "markdown",
   "metadata": {},
   "source": [
    "# Fourier Transformation Analysis of Street Parking Enforcement"
   ]
  },
  {
   "cell_type": "code",
   "execution_count": 60,
   "metadata": {
    "collapsed": false
   },
   "outputs": [
    {
     "data": {
      "text/html": [
       "<div>\n",
       "<table border=\"1\" class=\"dataframe\">\n",
       "  <thead>\n",
       "    <tr style=\"text-align: right;\">\n",
       "      <th></th>\n",
       "      <th>cd_id</th>\n",
       "      <th>day_hour</th>\n",
       "      <th>total_pop</th>\n",
       "      <th>vehicle_pop</th>\n",
       "      <th>sidewalk_parking_count</th>\n",
       "      <th>pct_sidewalk_parking</th>\n",
       "    </tr>\n",
       "  </thead>\n",
       "  <tbody>\n",
       "    <tr>\n",
       "      <th>0</th>\n",
       "      <td>BK01</td>\n",
       "      <td>2010-06-09 00:00:00</td>\n",
       "      <td>64123.0</td>\n",
       "      <td>25793.0</td>\n",
       "      <td>0.0</td>\n",
       "      <td>0.0</td>\n",
       "    </tr>\n",
       "    <tr>\n",
       "      <th>1</th>\n",
       "      <td>BK01</td>\n",
       "      <td>2010-06-09 01:00:00</td>\n",
       "      <td>64123.0</td>\n",
       "      <td>25793.0</td>\n",
       "      <td>0.0</td>\n",
       "      <td>0.0</td>\n",
       "    </tr>\n",
       "    <tr>\n",
       "      <th>2</th>\n",
       "      <td>BK01</td>\n",
       "      <td>2010-06-09 02:00:00</td>\n",
       "      <td>64123.0</td>\n",
       "      <td>25793.0</td>\n",
       "      <td>0.0</td>\n",
       "      <td>0.0</td>\n",
       "    </tr>\n",
       "    <tr>\n",
       "      <th>3</th>\n",
       "      <td>BK01</td>\n",
       "      <td>2010-06-09 03:00:00</td>\n",
       "      <td>64123.0</td>\n",
       "      <td>25793.0</td>\n",
       "      <td>0.0</td>\n",
       "      <td>0.0</td>\n",
       "    </tr>\n",
       "    <tr>\n",
       "      <th>4</th>\n",
       "      <td>BK01</td>\n",
       "      <td>2010-06-09 04:00:00</td>\n",
       "      <td>64123.0</td>\n",
       "      <td>25793.0</td>\n",
       "      <td>0.0</td>\n",
       "      <td>0.0</td>\n",
       "    </tr>\n",
       "  </tbody>\n",
       "</table>\n",
       "</div>"
      ],
      "text/plain": [
       "  cd_id            day_hour  total_pop  vehicle_pop  sidewalk_parking_count  \\\n",
       "0  BK01 2010-06-09 00:00:00    64123.0      25793.0                     0.0   \n",
       "1  BK01 2010-06-09 01:00:00    64123.0      25793.0                     0.0   \n",
       "2  BK01 2010-06-09 02:00:00    64123.0      25793.0                     0.0   \n",
       "3  BK01 2010-06-09 03:00:00    64123.0      25793.0                     0.0   \n",
       "4  BK01 2010-06-09 04:00:00    64123.0      25793.0                     0.0   \n",
       "\n",
       "   pct_sidewalk_parking  \n",
       "0                   0.0  \n",
       "1                   0.0  \n",
       "2                   0.0  \n",
       "3                   0.0  \n",
       "4                   0.0  "
      ]
     },
     "execution_count": 60,
     "metadata": {},
     "output_type": "execute_result"
    }
   ],
   "source": [
    "nypd_cd_acs_df.head()"
   ]
  },
  {
   "cell_type": "markdown",
   "metadata": {},
   "source": [
    "# read in community district shapefile"
   ]
  }
 ],
 "metadata": {
  "anaconda-cloud": {},
  "kernelspec": {
   "display_name": "Python [Root]",
   "language": "python",
   "name": "Python [Root]"
  },
  "language_info": {
   "codemirror_mode": {
    "name": "ipython",
    "version": 2
   },
   "file_extension": ".py",
   "mimetype": "text/x-python",
   "name": "python",
   "nbconvert_exporter": "python",
   "pygments_lexer": "ipython2",
   "version": "2.7.12"
  }
 },
 "nbformat": 4,
 "nbformat_minor": 2
}
